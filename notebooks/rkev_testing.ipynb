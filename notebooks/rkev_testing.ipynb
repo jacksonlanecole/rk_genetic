{
 "cells": [
  {
   "cell_type": "markdown",
   "metadata": {},
   "source": [
    "# Imports"
   ]
  },
  {
   "cell_type": "code",
   "execution_count": 4,
   "metadata": {},
   "outputs": [],
   "source": [
    "import deap as dp\n",
    "import rk_ext"
   ]
  },
  {
   "cell_type": "markdown",
   "metadata": {},
   "source": [
    "# Function to solve"
   ]
  },
  {
   "cell_type": "code",
   "execution_count": 5,
   "metadata": {},
   "outputs": [],
   "source": [
    "def func(t, x):\n",
    "    return x/(1 + t)"
   ]
  },
  {
   "cell_type": "markdown",
   "metadata": {},
   "source": [
    "# Setting up the RK4 Butcher Tableau"
   ]
  },
  {
   "cell_type": "code",
   "execution_count": 6,
   "metadata": {},
   "outputs": [],
   "source": [
    "bt = [[   0.,   0.,   0.,   0.,   0.],\n",
    "      [ 1/2., 1/2.,   0.,   0.,   0.],\n",
    "      [ 1/2.,   0., 1/2.,   0.,   0.],\n",
    "      [   1.,   0.,   0.,   1.,   0.],\n",
    "      [   0., 1/6., 1/3., 1/3., 1/6.]]"
   ]
  },
  {
   "cell_type": "markdown",
   "metadata": {},
   "source": [
    "# 1D INTEGRATION"
   ]
  },
  {
   "cell_type": "markdown",
   "metadata": {},
   "source": [
    "## Setting up initial conditions"
   ]
  },
  {
   "cell_type": "code",
   "execution_count": 7,
   "metadata": {},
   "outputs": [],
   "source": [
    "lowerBound = 0\n",
    "upperBound = 2\n",
    "initialValue = 1"
   ]
  },
  {
   "cell_type": "code",
   "execution_count": 8,
   "metadata": {},
   "outputs": [],
   "source": [
    "RK4_1D = rk_ext.RKIntegrator(func, bt, 10000, lowerBound, upperBound, initialValue, True)"
   ]
  },
  {
   "cell_type": "code",
   "execution_count": 9,
   "metadata": {},
   "outputs": [
    {
     "name": "stdout",
     "output_type": "stream",
     "text": [
      "2.9999999999997797\n"
     ]
    }
   ],
   "source": [
    "while (not RK4_1D.isFinished()):\n",
    "    RK4_1D.step()\n",
    "\n",
    "xVec = RK4_1D.get_xVec()\n",
    "dxVec = RK4_1D.get_dxVec()\n",
    "tVec = RK4_1D.get_tVec()\n",
    "\n",
    "print(RK4_1D.get_last(0))"
   ]
  },
  {
   "cell_type": "markdown",
   "metadata": {},
   "source": [
    "# 2D Integration"
   ]
  },
  {
   "cell_type": "code",
   "execution_count": 10,
   "metadata": {},
   "outputs": [],
   "source": [
    "lowerBound = 0.\n",
    "upperBound = 2.\n",
    "initialValue = [1.]*20\n",
    "x = initialValue"
   ]
  },
  {
   "cell_type": "code",
   "execution_count": 11,
   "metadata": {},
   "outputs": [],
   "source": [
    "RK4_2D = rk_ext.RKIntegrator(func, bt, 10000., lowerBound, upperBound, False)"
   ]
  },
  {
   "cell_type": "code",
   "execution_count": 12,
   "metadata": {},
   "outputs": [],
   "source": [
    "while (not RK4_2D.isFinished()):\n",
    "    x = RK4_2D.step(x)"
   ]
  },
  {
   "cell_type": "code",
   "execution_count": 13,
   "metadata": {},
   "outputs": [
    {
     "name": "stdout",
     "output_type": "stream",
     "text": [
      "[7.390534057941406, 7.390534057941406, 7.390534057941406, 7.390534057941406, 7.390534057941406, 7.390534057941406, 7.390534057941406, 7.390534057941406, 7.390534057941406, 7.390534057941406, 7.390534057941406, 7.390534057941406, 7.390534057941406, 7.390534057941406, 7.390534057941406, 7.390534057941406, 7.390534057941406, 7.390534057941406, 7.390534057941406, 7.390534057941406]\n"
     ]
    }
   ],
   "source": [
    "print(x)"
   ]
  },
  {
   "cell_type": "markdown",
   "metadata": {},
   "source": [
    "### Some MATLAB code from years ago"
   ]
  },
  {
   "cell_type": "raw",
   "metadata": {},
   "source": [
    "massproductoverradiuscubed = (1/masses(i))*massproducts(i,:)./(r(i,:).^3);\n",
    "massproductoverradiuscubed(isnan(massproductoverradiuscubed)) = 0;\n",
    "summm=sum(massproductoverradiuscubed);\n",
    "vx(i,k+1) = vx(i,k) - ( ((G*x(i,k)))*stepsize)*summm;\n"
   ]
  },
  {
   "cell_type": "markdown",
   "metadata": {},
   "source": [
    "# Setting up IVP"
   ]
  },
  {
   "cell_type": "code",
   "execution_count": 17,
   "metadata": {},
   "outputs": [],
   "source": [
    "s_pos = [0, 0, 0]\n",
    "e_pos = [149597870e3, 0, 0]\n",
    "bodies_ip = [s_pos, e_pos]\n",
    "\n",
    "s_iv = [0, 0, 0]\n",
    "e_iv = [0, 29.8e3, 0]\n",
    "bodies_iv = [s_iv, e_iv]"
   ]
  },
  {
   "cell_type": "code",
   "execution_count": 18,
   "metadata": {},
   "outputs": [],
   "source": [
    "xi = []\n",
    "yi = []\n",
    "zi = []\n",
    "vxi = []\n",
    "vyi = []\n",
    "vzi = []\n",
    "\n",
    "for body_ip, body_iv in zip(bodies_ip, bodies_iv):\n",
    "    xi.append(body_ip[0])\n",
    "    yi.append(body_ip[1])\n",
    "    zi.append(body_ip[2])\n",
    "    \n",
    "    vxi.append(body_iv[0])\n",
    "    vyi.append(body_iv[1])\n",
    "    vzi.append(body_iv[2])\n",
    "    "
   ]
  },
  {
   "cell_type": "code",
   "execution_count": null,
   "metadata": {},
   "outputs": [],
   "source": []
  },
  {
   "cell_type": "code",
   "execution_count": null,
   "metadata": {},
   "outputs": [],
   "source": []
  }
 ],
 "metadata": {
  "kernelspec": {
   "display_name": "Python 3",
   "language": "python",
   "name": "python3"
  },
  "language_info": {
   "codemirror_mode": {
    "name": "ipython",
    "version": 3
   },
   "file_extension": ".py",
   "mimetype": "text/x-python",
   "name": "python",
   "nbconvert_exporter": "python",
   "pygments_lexer": "ipython3",
   "version": "3.7.0"
  }
 },
 "nbformat": 4,
 "nbformat_minor": 2
}
