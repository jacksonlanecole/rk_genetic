{
 "cells": [
  {
   "cell_type": "markdown",
   "metadata": {},
   "source": [
    "# Imports"
   ]
  },
  {
   "cell_type": "code",
   "execution_count": 1,
   "metadata": {},
   "outputs": [],
   "source": [
    "import deap as dp\n",
    "import rk_ext"
   ]
  },
  {
   "cell_type": "markdown",
   "metadata": {},
   "source": [
    "# Function to solve"
   ]
  },
  {
   "cell_type": "code",
   "execution_count": 2,
   "metadata": {},
   "outputs": [],
   "source": [
    "def func(t, x):\n",
    "    return x/(1 + t)"
   ]
  },
  {
   "cell_type": "markdown",
   "metadata": {},
   "source": [
    "# Setting up the RK4 Butcher Tableau"
   ]
  },
  {
   "cell_type": "code",
   "execution_count": 3,
   "metadata": {},
   "outputs": [],
   "source": [
    "bt = [[   0.,   0.,   0.,   0.,   0.],\n",
    "      [ 1/2., 1/2.,   0.,   0.,   0.],\n",
    "      [ 1/2.,   0., 1/2.,   0.,   0.],\n",
    "      [   1.,   0.,   0.,   1.,   0.],\n",
    "      [   0., 1/6., 1/3., 1/3., 1/6.]]"
   ]
  },
  {
   "cell_type": "markdown",
   "metadata": {},
   "source": [
    "# 1D INTEGRATION"
   ]
  },
  {
   "cell_type": "markdown",
   "metadata": {},
   "source": [
    "## Setting up initial conditions"
   ]
  },
  {
   "cell_type": "code",
   "execution_count": 4,
   "metadata": {},
   "outputs": [],
   "source": [
    "lowerBound = 0\n",
    "upperBound = 2\n",
    "initialValue = 1"
   ]
  },
  {
   "cell_type": "code",
   "execution_count": 5,
   "metadata": {},
   "outputs": [],
   "source": [
    "RK4_1D = rk_ext.RKIntegrator(func, bt, 10000, lowerBound, upperBound, initialValue)"
   ]
  },
  {
   "cell_type": "code",
   "execution_count": 6,
   "metadata": {},
   "outputs": [
    {
     "name": "stdout",
     "output_type": "stream",
     "text": [
      "2.9999999999997797\n"
     ]
    }
   ],
   "source": [
    "while (not RK4_1D.isFinished()):\n",
    "    RK4_1D.step()\n",
    "\n",
    "xVec = RK4_1D.get_xVec()\n",
    "dxVec = RK4_1D.get_dxVec()\n",
    "tVec = RK4_1D.get_tVec()\n",
    "\n",
    "print(RK4_1D.get_last(0))"
   ]
  },
  {
   "cell_type": "markdown",
   "metadata": {},
   "source": [
    "# 2D Integration"
   ]
  },
  {
   "cell_type": "code",
   "execution_count": 7,
   "metadata": {},
   "outputs": [],
   "source": [
    "lowerBound = 0.\n",
    "upperBound = 2.\n",
    "initialValue = [1.]*20\n",
    "x = initialValue"
   ]
  },
  {
   "cell_type": "code",
   "execution_count": 8,
   "metadata": {},
   "outputs": [],
   "source": [
    "RK4_2D = rk_ext.RKIntegrator(func, bt, 10000., lowerBound, upperBound)"
   ]
  },
  {
   "cell_type": "code",
   "execution_count": 9,
   "metadata": {},
   "outputs": [],
   "source": [
    "while (not RK4_2D.isFinished()):\n",
    "    x = RK4_2D.step(x)"
   ]
  },
  {
   "cell_type": "code",
   "execution_count": 10,
   "metadata": {},
   "outputs": [
    {
     "name": "stdout",
     "output_type": "stream",
     "text": [
      "[3.0003296148769105, 3.0003296148769105, 3.0003296148769105, 3.0003296148769105, 3.0003296148769105, 3.0003296148769105, 3.0003296148769105, 3.0003296148769105, 3.0003296148769105, 3.0003296148769105, 3.0003296148769105, 3.0003296148769105, 3.0003296148769105, 3.0003296148769105, 3.0003296148769105, 3.0003296148769105, 3.0003296148769105, 3.0003296148769105, 3.0003296148769105, 3.0003296148769105]\n"
     ]
    }
   ],
   "source": [
    "print(x)"
   ]
  },
  {
   "cell_type": "code",
   "execution_count": null,
   "metadata": {},
   "outputs": [],
   "source": []
  },
  {
   "cell_type": "code",
   "execution_count": null,
   "metadata": {},
   "outputs": [],
   "source": []
  }
 ],
 "metadata": {
  "kernelspec": {
   "display_name": "Python 3",
   "language": "python",
   "name": "python3"
  },
  "language_info": {
   "codemirror_mode": {
    "name": "ipython",
    "version": 3
   },
   "file_extension": ".py",
   "mimetype": "text/x-python",
   "name": "python",
   "nbconvert_exporter": "python",
   "pygments_lexer": "ipython3",
   "version": "3.7.0"
  }
 },
 "nbformat": 4,
 "nbformat_minor": 2
}
